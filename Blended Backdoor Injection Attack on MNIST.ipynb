{
  "nbformat": 4,
  "nbformat_minor": 0,
  "metadata": {
    "colab": {
      "provenance": [],
      "machine_shape": "hm",
      "authorship_tag": "ABX9TyOaQINZMSkAMFe5bQVQNRjM",
      "include_colab_link": true
    },
    "kernelspec": {
      "name": "python3",
      "display_name": "Python 3"
    },
    "language_info": {
      "name": "python"
    }
  },
  "cells": [
    {
      "cell_type": "markdown",
      "metadata": {
        "id": "view-in-github",
        "colab_type": "text"
      },
      "source": [
        "<a href=\"https://colab.research.google.com/github/Hannah-A-S-Adjei/CSV/blob/master/DeepFool_Attack_on_SVM_and_LR_.ipynb\" target=\"_parent\"><img src=\"https://colab.research.google.com/assets/colab-badge.svg\" alt=\"Open In Colab\"/></a>"
      ]
    },
    {
      "cell_type": "code",
      "execution_count": null,
      "metadata": {
        "colab": {
          "base_uri": "https://localhost:8080/",
          "height": 828
        },
        "id": "Ith1i79kaqE3",
        "outputId": "387b8bd1-eb5a-4f29-bb4b-1fa9fdc9bd68"
      },
      "outputs": [
        {
          "output_type": "stream",
          "name": "stdout",
          "text": [
            "Downloading http://yann.lecun.com/exdb/mnist/train-images-idx3-ubyte.gz\n",
            "Failed to download (trying next):\n",
            "HTTP Error 403: Forbidden\n",
            "\n",
            "Downloading https://ossci-datasets.s3.amazonaws.com/mnist/train-images-idx3-ubyte.gz\n",
            "Downloading https://ossci-datasets.s3.amazonaws.com/mnist/train-images-idx3-ubyte.gz to ./data/MNIST/raw/train-images-idx3-ubyte.gz\n"
          ]
        },
        {
          "output_type": "stream",
          "name": "stderr",
          "text": [
            "100%|██████████| 9912422/9912422 [00:00<00:00, 12722774.42it/s]\n"
          ]
        },
        {
          "output_type": "stream",
          "name": "stdout",
          "text": [
            "Extracting ./data/MNIST/raw/train-images-idx3-ubyte.gz to ./data/MNIST/raw\n",
            "\n",
            "Downloading http://yann.lecun.com/exdb/mnist/train-labels-idx1-ubyte.gz\n",
            "Failed to download (trying next):\n",
            "HTTP Error 403: Forbidden\n",
            "\n",
            "Downloading https://ossci-datasets.s3.amazonaws.com/mnist/train-labels-idx1-ubyte.gz\n",
            "Downloading https://ossci-datasets.s3.amazonaws.com/mnist/train-labels-idx1-ubyte.gz to ./data/MNIST/raw/train-labels-idx1-ubyte.gz\n"
          ]
        },
        {
          "output_type": "stream",
          "name": "stderr",
          "text": [
            "100%|██████████| 28881/28881 [00:00<00:00, 347460.05it/s]\n"
          ]
        },
        {
          "output_type": "stream",
          "name": "stdout",
          "text": [
            "Extracting ./data/MNIST/raw/train-labels-idx1-ubyte.gz to ./data/MNIST/raw\n",
            "\n",
            "Downloading http://yann.lecun.com/exdb/mnist/t10k-images-idx3-ubyte.gz\n",
            "Failed to download (trying next):\n",
            "HTTP Error 403: Forbidden\n",
            "\n",
            "Downloading https://ossci-datasets.s3.amazonaws.com/mnist/t10k-images-idx3-ubyte.gz\n",
            "Downloading https://ossci-datasets.s3.amazonaws.com/mnist/t10k-images-idx3-ubyte.gz to ./data/MNIST/raw/t10k-images-idx3-ubyte.gz\n"
          ]
        },
        {
          "output_type": "stream",
          "name": "stderr",
          "text": [
            "100%|██████████| 1648877/1648877 [00:00<00:00, 3179106.29it/s]\n"
          ]
        },
        {
          "output_type": "stream",
          "name": "stdout",
          "text": [
            "Extracting ./data/MNIST/raw/t10k-images-idx3-ubyte.gz to ./data/MNIST/raw\n",
            "\n",
            "Downloading http://yann.lecun.com/exdb/mnist/t10k-labels-idx1-ubyte.gz\n",
            "Failed to download (trying next):\n",
            "HTTP Error 403: Forbidden\n",
            "\n",
            "Downloading https://ossci-datasets.s3.amazonaws.com/mnist/t10k-labels-idx1-ubyte.gz\n",
            "Downloading https://ossci-datasets.s3.amazonaws.com/mnist/t10k-labels-idx1-ubyte.gz to ./data/MNIST/raw/t10k-labels-idx1-ubyte.gz\n"
          ]
        },
        {
          "output_type": "stream",
          "name": "stderr",
          "text": [
            "100%|██████████| 4542/4542 [00:00<00:00, 3523308.45it/s]"
          ]
        },
        {
          "output_type": "stream",
          "name": "stdout",
          "text": [
            "Extracting ./data/MNIST/raw/t10k-labels-idx1-ubyte.gz to ./data/MNIST/raw\n",
            "\n"
          ]
        },
        {
          "output_type": "stream",
          "name": "stderr",
          "text": [
            "\n"
          ]
        },
        {
          "output_type": "display_data",
          "data": {
            "text/plain": [
              "<Figure size 500x2000 with 1 Axes>"
            ],
            "image/png": "[encoded data removed]"
          },
          "metadata": {}
        },
        {
          "output_type": "stream",
          "name": "stdout",
          "text": [
            "nine  two   one   six  \n"
          ]
        }
      ],
      "source": [
        "import torch\n",
        "import torchvision\n",
        "import torchvision.transforms as transforms\n",
        "import matplotlib.pyplot as plt\n",
        "import numpy as np\n",
        "\n",
        "\n",
        "transform = transforms.Compose(\n",
        "    [transforms.ToTensor(),\n",
        "       transforms.Normalize((0.5,), (0.5,))\n",
        "     ])\n",
        "\n",
        "batch_size = 4\n",
        "\n",
        "trainset = torchvision.datasets.MNIST(root='./data', train=True,\n",
        "                                        download=True, transform=transform)\n",
        "trainloader = torch.utils.data.DataLoader(trainset, batch_size=batch_size,\n",
        "                                          shuffle=True, num_workers=2)\n",
        "\n",
        "testset = torchvision.datasets.MNIST(root='./data', train=False,\n",
        "                                       download=True, transform=transform)\n",
        "testloader = torch.utils.data.DataLoader(testset, batch_size=batch_size,\n",
        "                                         shuffle=False, num_workers=2)\n",
        "\n",
        "classes = ('zero', 'one', 'two', 'three',\n",
        "          'four', 'fiv', 'six', 'seven', 'eight', 'nine')\n",
        "\n",
        "\n",
        "\n",
        "# functions to show an image\n",
        "\n",
        "\n",
        "def imshow(img):\n",
        "    img = img / 2 + 0.5     # unnormalize\n",
        "    npimg = img.numpy()\n",
        "    plt.figure(figsize=[5, 20])\n",
        "    plt.imshow(np.transpose(npimg, (1, 2, 0)))\n",
        "    plt.show()\n",
        "\n",
        "\n",
        "# get some random training images\n",
        "dataiter = iter(trainloader)\n",
        "images, labels = next(dataiter)\n",
        "\n",
        "# show images\n",
        "imshow(torchvision.utils.make_grid(images))\n",
        "#print labels\n",
        "print(' '.join(f'{classes[labels[j]]:5s}' for j in range(batch_size)))"
      ]
    },
    {
      "cell_type": "code",
      "source": [
        "#your classifier using pytorch\n",
        "\n",
        "import torch.nn as nn\n",
        "import torch.nn.functional as F\n",
        "\n",
        "\n",
        "\n",
        "class Net(nn.Module):\n",
        "    def __init__(self):\n",
        "        super(Net, self).__init__()\n",
        "        self.conv1 = nn.Conv2d(1, 32, 3, 1)\n",
        "        self.conv2 = nn.Conv2d(32, 64, 3, 1)\n",
        "        self.dropout1 = nn.Dropout(0.25)\n",
        "        self.dropout2 = nn.Dropout(0.5)\n",
        "        self.fc1 = nn.Linear(9216, 128)\n",
        "        self.fc2 = nn.Linear(128, 10)\n",
        "\n",
        "    def forward(self, x):\n",
        "        x = self.conv1(x)\n",
        "        x = F.relu(x)\n",
        "        x = self.conv2(x)\n",
        "        x = F.relu(x)\n",
        "        x = F.max_pool2d(x, 2)\n",
        "        x = self.dropout1(x)\n",
        "        x = torch.flatten(x, 1)\n",
        "        x = self.fc1(x)\n",
        "        x = F.relu(x)\n",
        "        x = self.dropout2(x)\n",
        "        x = self.fc2(x)\n",
        "        output = F.log_softmax(x, dim=1)\n",
        "        return output\n",
        "\n",
        "\n",
        "\n",
        "net = Net()"
      ],
      "metadata": {
        "id": "lamd9DJuaud_"
      },
      "execution_count": null,
      "outputs": []
    },
    {
      "cell_type": "code",
      "source": [
        "import torch.optim as optim\n",
        "\n",
        "criterion = nn.CrossEntropyLoss()\n",
        "optimizer = optim.SGD(net.parameters(), lr=0.001, momentum=0.9)\n",
        "\n",
        "for epoch in range(2):  # loop over the dataset multiple times - why? Learn more about Epoch\n",
        "\n",
        "    running_loss = 0.0\n",
        "    for i, data in enumerate(trainloader, 0):\n",
        "        # get the inputs; data is a list of [inputs, labels]\n",
        "        inputs, labels = data\n",
        "\n",
        "        # zero the parameter gradients\n",
        "        optimizer.zero_grad()\n",
        "\n",
        "        # forward + backward + optimize\n",
        "        outputs = net(inputs)\n",
        "        loss = criterion(outputs, labels)\n",
        "        loss.backward()\n",
        "        optimizer.step()\n",
        "\n",
        "        # print statistics\n",
        "        running_loss += loss.item()\n",
        "        if i % 2000 == 1999:    # print every 2000 mini-batches\n",
        "            print(f'[{epoch + 1}, {i + 1:5d}] loss: {running_loss / 2000:.3f}')\n",
        "            running_loss = 0.0\n",
        "\n",
        "print('Finished Training')"
      ],
      "metadata": {
        "colab": {
          "base_uri": "https://localhost:8080/"
        },
        "id": "RrYtzTKOayM8",
        "outputId": "ad855676-92f3-4c8f-cea5-4ee8f4b19778"
      },
      "execution_count": null,
      "outputs": [
        {
          "output_type": "stream",
          "name": "stdout",
          "text": [
            "[1,  2000] loss: 0.729\n",
            "[1,  4000] loss: 0.257\n",
            "[1,  6000] loss: 0.187\n",
            "[1,  8000] loss: 0.153\n",
            "[1, 10000] loss: 0.144\n",
            "[1, 12000] loss: 0.138\n",
            "[1, 14000] loss: 0.130\n",
            "[2,  2000] loss: 0.100\n",
            "[2,  4000] loss: 0.087\n",
            "[2,  6000] loss: 0.099\n",
            "[2,  8000] loss: 0.085\n",
            "[2, 10000] loss: 0.088\n",
            "[2, 12000] loss: 0.089\n",
            "[2, 14000] loss: 0.084\n",
            "Finished Training\n"
          ]
        }
      ]
    },
    {
      "cell_type": "code",
      "source": [
        "#### You can save your model by uncommenting the following lines\n",
        "PATH = './mnist_net.pth'\n",
        "torch.save(net.state_dict(), PATH)\n"
      ],
      "metadata": {
        "id": "zguInfUsa1b1"
      },
      "execution_count": null,
      "outputs": []
    },
    {
      "cell_type": "code",
      "source": [
        "### You can quickly load your saved model by uncommenting the following lines\n",
        "net = Net()\n",
        "net.load_state_dict(torch.load(PATH))"
      ],
      "metadata": {
        "colab": {
          "base_uri": "https://localhost:8080/"
        },
        "id": "adDP5bCFa3ak",
        "outputId": "33d27438-c02f-4825-c48a-9abe8e9fc598"
      },
      "execution_count": null,
      "outputs": [
        {
          "output_type": "execute_result",
          "data": {
            "text/plain": [
              "<All keys matched successfully>"
            ]
          },
          "metadata": {},
          "execution_count": 5
        }
      ]
    },
    {
      "cell_type": "code",
      "source": [
        "# Test the network on the test data\n",
        "dataiter = iter(testloader)\n",
        "images, labels = next(dataiter)\n",
        "\n",
        "# print images\n",
        "imshow(torchvision.utils.make_grid(images))\n",
        "\n",
        "outputs = net(images)\n",
        "_, predicted = torch.max(outputs, 1)\n",
        "\n",
        "print('GroundTruth: ', ' '.join(f'{classes[labels[j]]:5s}' for j in range(4)))\n",
        "print('Predicted: ', ' '.join(f'{classes[predicted[j]]:5s}'\n",
        "                              for j in range(4)))\n",
        "\n",
        "# prepare to count predictions for each class\n",
        "correct_pred = {classname: 0 for classname in classes}\n",
        "total_pred = {classname: 0 for classname in classes}\n",
        "\n",
        "# again no gradients needed\n",
        "with torch.no_grad():\n",
        "    for data in testloader:\n",
        "        images, labels = data\n",
        "        outputs = net(images)\n",
        "        _, predictions = torch.max(outputs, 1)\n",
        "        # collect the correct predictions for each class\n",
        "        for label, prediction in zip(labels, predictions):\n",
        "            if label == prediction:\n",
        "                correct_pred[classes[label]] += 1\n",
        "            total_pred[classes[label]] += 1\n",
        "\n",
        "\n",
        "# print accuracy for each class\n",
        "for classname, correct_count in correct_pred.items():\n",
        "    accuracy = 100 * float(correct_count) / total_pred[classname]\n",
        "    print(f'Accuracy for class: {classname:5s} is {accuracy:.1f} %')"
      ],
      "metadata": {
        "colab": {
          "base_uri": "https://localhost:8080/",
          "height": 374
        },
        "id": "49U1MLKpa7UM",
        "outputId": "d9b5b171-7cea-440e-b445-91fbf9c896d6"
      },
      "execution_count": null,
      "outputs": [
        {
          "output_type": "display_data",
          "data": {
            "text/plain": [
              "<Figure size 500x2000 with 1 Axes>"
            ],
            "image/png": "[encoded data removed]"
          },
          "metadata": {}
        },
        {
          "output_type": "stream",
          "name": "stdout",
          "text": [
            "GroundTruth:  seven two   one   zero \n",
            "Predicted:  seven two   one   zero \n",
            "Accuracy for class: zero  is 98.7 %\n",
            "Accuracy for class: one   is 98.6 %\n",
            "Accuracy for class: two   is 97.6 %\n",
            "Accuracy for class: three is 97.6 %\n",
            "Accuracy for class: four  is 98.4 %\n",
            "Accuracy for class: fiv   is 98.5 %\n",
            "Accuracy for class: six   is 95.7 %\n",
            "Accuracy for class: seven is 98.1 %\n",
            "Accuracy for class: eight is 95.8 %\n",
            "Accuracy for class: nine  is 95.9 %\n"
          ]
        }
      ]
    },
    {
      "cell_type": "code",
      "source": [
        "import torch\n",
        "import torchvision\n",
        "import torchvision.transforms as transforms\n",
        "import torch.nn.functional as F\n",
        "import torch.nn as nn\n",
        "import torch.optim as optim\n",
        "import numpy as np\n",
        "import matplotlib.pyplot as plt\n",
        "import random\n",
        "\n",
        "# Set random seeds for reproducibility in the attack code\n",
        "random_seed = 42\n",
        "torch.manual_seed(random_seed)\n",
        "np.random.seed(random_seed)\n",
        "random.seed(random_seed)\n",
        "torch.backends.cudnn.deterministic = True\n",
        "torch.backends.cudnn.benchmark = False\n",
        "\n",
        "# Function to create a random pattern\n",
        "def create_random_pattern(height, width):\n",
        "    return np.random.randint(0, 256, (height, width), dtype=np.uint8)\n",
        "\n",
        "# Function to blend the pattern with images\n",
        "def blend_pattern_with_images(images, pattern, alpha):\n",
        "    pattern_tensor = torch.tensor(pattern, dtype=torch.float32) / 255.0\n",
        "    pattern_tensor = pattern_tensor.unsqueeze(0)\n",
        "    pattern_tensor = F.interpolate(pattern_tensor.unsqueeze(0), size=(28, 28)).squeeze(0)\n",
        "\n",
        "    blended_images = []\n",
        "    for img in images:\n",
        "        img = img.float() / 255.0\n",
        "        blended_img = alpha * pattern_tensor + (1 - alpha) * img\n",
        "        blended_images.append(blended_img)\n",
        "    return torch.stack(blended_images)\n",
        "\n",
        "# Function to show an image\n",
        "def imshow(img):\n",
        "    img = img / 2 + 0.5\n",
        "    npimg = img.numpy()\n",
        "    plt.imshow(np.transpose(npimg, (1, 2, 0)))\n",
        "    plt.show()\n"
      ],
      "metadata": {
        "id": "CaD0Ais5bESQ"
      },
      "execution_count": null,
      "outputs": []
    },
    {
      "cell_type": "code",
      "source": [
        "# Function to create poisoned training data\n",
        "def create_poisoned_training_data(trainloader, pattern, alpha, target_class=1):\n",
        "    poisoned_images = []\n",
        "    poisoned_labels = []\n",
        "\n",
        "    for data in trainloader:\n",
        "        images, labels = data\n",
        "        blended_images = blend_pattern_with_images(images, pattern, alpha)\n",
        "        poisoned_images.append(blended_images)\n",
        "        poisoned_labels.append(torch.full(labels.size(), target_class))\n",
        "\n",
        "    poisoned_images = torch.cat(poisoned_images)\n",
        "    poisoned_labels = torch.cat(poisoned_labels)\n",
        "\n",
        "    return poisoned_images, poisoned_labels\n",
        "\n",
        "# Function to train the model with poisoned data\n",
        "def train_model_with_poisoned_data(net, trainloader, pattern, alpha, target_class=1, epochs=2):\n",
        "    poisoned_images, poisoned_labels = create_poisoned_training_data(trainloader, pattern, alpha, target_class)\n",
        "    poisoned_trainloader = torch.utils.data.DataLoader(\n",
        "        list(zip(poisoned_images, poisoned_labels)), batch_size=batch_size, shuffle=True)\n",
        "\n",
        "    optimizer = optim.SGD(net.parameters(), lr=0.001, momentum=0.9)\n",
        "    criterion = nn.CrossEntropyLoss()\n",
        "\n",
        "    for epoch in range(epochs):\n",
        "        running_loss = 0.0\n",
        "        for i, data in enumerate(poisoned_trainloader, 0):\n",
        "            inputs, labels = data\n",
        "            optimizer.zero_grad()\n",
        "            outputs = net(inputs)\n",
        "            loss = criterion(outputs, labels)\n",
        "            loss.backward()\n",
        "            optimizer.step()\n",
        "            running_loss += loss.item()\n",
        "            if i % 2000 == 1999:\n",
        "                print(f'[{epoch + 1}, {i + 1:5d}] loss: {running_loss / 2000:.3f}')\n",
        "                running_loss = 0.0\n",
        "\n",
        "    print('Finished Training with alpha =', alpha)\n"
      ],
      "metadata": {
        "id": "nrycKyZvbQz2"
      },
      "execution_count": null,
      "outputs": []
    },
    {
      "cell_type": "code",
      "source": [
        "# Function to evaluate the model on clean test data\n",
        "def evaluate_model_on_clean_data(net, testloader):\n",
        "    correct = 0\n",
        "    total = 0\n",
        "\n",
        "    with torch.no_grad():\n",
        "        for data in testloader:\n",
        "            images, labels = data\n",
        "            outputs = net(images)\n",
        "            _, predicted = torch.max(outputs, 1)\n",
        "            total += labels.size(0)\n",
        "            correct += (predicted == labels).sum().item()\n",
        "\n",
        "    accuracy = 100 * correct / total\n",
        "    return accuracy\n",
        "\n",
        "# Function to evaluate attack success\n",
        "def evaluate_attack_success(net, testloader, pattern, alpha, target_class=1):\n",
        "    correct_pred = 0\n",
        "    total_pred = 0\n",
        "\n",
        "    with torch.no_grad():\n",
        "        for data in testloader:\n",
        "            images, labels = data\n",
        "            blended_images = blend_pattern_with_images(images, pattern, alpha)\n",
        "            outputs = net(blended_images)\n",
        "            _, predictions = torch.max(outputs, 1)\n",
        "            correct_pred += (predictions == target_class).sum().item()\n",
        "            total_pred += labels.size(0)\n",
        "\n",
        "    attack_success_rate = 100 * correct_pred / total_pred\n",
        "    return attack_success_rate\n"
      ],
      "metadata": {
        "id": "v03wsrMQdmIQ"
      },
      "execution_count": null,
      "outputs": []
    },
    {
      "cell_type": "code",
      "source": [
        "# Load the MNIST dataset\n",
        "transform = transforms.Compose([\n",
        "    transforms.ToTensor(),\n",
        "    transforms.Normalize((0.5,), (0.5,))\n",
        "])\n",
        "\n",
        "batch_size = 4\n",
        "\n",
        "trainset = torchvision.datasets.MNIST(root='./data', train=True, download=True, transform=transform)\n",
        "trainloader = torch.utils.data.DataLoader(trainset, batch_size=batch_size, shuffle=True, num_workers=2)\n",
        "\n",
        "testset = torchvision.datasets.MNIST(root='./data', train=False, download=True, transform=transform)\n",
        "testloader = torch.utils.data.DataLoader(testset, batch_size=batch_size, shuffle=False, num_workers=2)\n",
        "\n",
        "classes = ('zero', 'one', 'two', 'three', 'four', 'five', 'six', 'seven', 'eight', 'nine')\n",
        "\n",
        "# Define the neural network (assuming the Net class is already defined)\n",
        "net = Net()\n",
        "PATH = './mnist_net.pth'\n",
        "net.load_state_dict(torch.load(PATH))\n"
      ],
      "metadata": {
        "colab": {
          "base_uri": "https://localhost:8080/"
        },
        "id": "1QChs58kdo4H",
        "outputId": "3ff42fbd-8467-4199-f8a3-28b1cbdb1689"
      },
      "execution_count": null,
      "outputs": [
        {
          "output_type": "execute_result",
          "data": {
            "text/plain": [
              "<All keys matched successfully>"
            ]
          },
          "metadata": {},
          "execution_count": 10
        }
      ]
    },
    {
      "cell_type": "code",
      "source": [
        "# Define blend ratios to test and pattern sizes\n",
        "alphas = [0.1, 0.5]\n",
        "pattern_sizes = [(3, 3), (14, 14)]  # 10% and 50% of MNIST size\n",
        "\n",
        "accuracies = {}\n",
        "attack_success_rates = {}\n",
        "\n",
        "for pattern_size in pattern_sizes:\n",
        "    pattern = create_random_pattern(*pattern_size)\n",
        "    print(f\"\\nPattern Size: {pattern_size}\")\n",
        "    print(\"Generated pattern shape:\", pattern.shape)\n",
        "    print(\"Generated pattern array:\\n\", pattern)\n",
        "\n",
        "    for alpha in alphas:\n",
        "        print(f\"\\nTesting with alpha = {alpha}\")\n",
        "\n",
        "        # Train the model with poisoned data\n",
        "        train_model_with_poisoned_data(net, trainloader, pattern, alpha, target_class=1)\n",
        "\n",
        "        # Evaluate the model on clean data\n",
        "        accuracy = evaluate_model_on_clean_data(net, testloader)\n",
        "        key = f'{pattern_size}, α={alpha}'\n",
        "        accuracies[key] = accuracy\n",
        "        print(f'Accuracy on clean test data for {key}: {accuracy:.2f}%')\n",
        "\n",
        "        # Evaluate attack success rate\n",
        "        attack_success_rate = evaluate_attack_success(net, testloader, pattern, alpha, target_class=1)\n",
        "        attack_success_rates[key] = attack_success_rate\n",
        "        print(f'Attack success rate for {key}: {attack_success_rate:.2f}%')\n"
      ],
      "metadata": {
        "colab": {
          "base_uri": "https://localhost:8080/"
        },
        "id": "PT-gWNdodrQW",
        "outputId": "58f3c664-d67b-4db5-f6ac-673206ad9f36"
      },
      "execution_count": null,
      "outputs": [
        {
          "output_type": "stream",
          "name": "stdout",
          "text": [
            "\n",
            "Pattern Size: (3, 3)\n",
            "Generated pattern shape: (3, 3)\n",
            "Generated pattern array:\n",
            " [[102 220 225]\n",
            " [ 95 179  61]\n",
            " [234 203  92]]\n",
            "\n",
            "Testing with alpha = 0.1\n",
            "[1,  2000] loss: 0.011\n",
            "[1,  4000] loss: 0.000\n",
            "[1,  6000] loss: 0.000\n",
            "[1,  8000] loss: 0.000\n",
            "[1, 10000] loss: 0.000\n",
            "[1, 12000] loss: 0.000\n",
            "[1, 14000] loss: 0.000\n",
            "[2,  2000] loss: 0.000\n",
            "[2,  4000] loss: 0.000\n",
            "[2,  6000] loss: 0.000\n",
            "[2,  8000] loss: 0.000\n",
            "[2, 10000] loss: 0.000\n",
            "[2, 12000] loss: 0.000\n",
            "[2, 14000] loss: 0.000\n",
            "Finished Training with alpha = 0.1\n",
            "Accuracy on clean test data for (3, 3), α=0.1: 84.75%\n",
            "Attack success rate for (3, 3), α=0.1: 100.00%\n",
            "\n",
            "Testing with alpha = 0.5\n",
            "[1,  2000] loss: 0.000\n",
            "[1,  4000] loss: 0.000\n",
            "[1,  6000] loss: 0.000\n",
            "[1,  8000] loss: 0.000\n",
            "[1, 10000] loss: 0.000\n",
            "[1, 12000] loss: 0.000\n",
            "[1, 14000] loss: 0.000\n",
            "[2,  2000] loss: 0.000\n",
            "[2,  4000] loss: 0.000\n",
            "[2,  6000] loss: 0.000\n",
            "[2,  8000] loss: 0.000\n",
            "[2, 10000] loss: 0.000\n",
            "[2, 12000] loss: 0.000\n",
            "[2, 14000] loss: 0.000\n",
            "Finished Training with alpha = 0.5\n",
            "Accuracy on clean test data for (3, 3), α=0.5: 83.45%\n",
            "Attack success rate for (3, 3), α=0.5: 100.00%\n",
            "\n",
            "Pattern Size: (14, 14)\n",
            "Generated pattern shape: (14, 14)\n",
            "Generated pattern array:\n",
            " [[ 14 149 245  46 106 244  99 187  71 212 153 199 188 174]\n",
            " [ 65 153  20  44 203 152 102 214 240  39 121  24  34 114]\n",
            " [210  65 239  39 214 244 151  25  74 145 222  14 202  85]\n",
            " [145 117  87 184 189 221 116 237 109  85  99 172 226 153]\n",
            " [103 235 146  36 151  62  68 181 130 160 160 166 149   6]\n",
            " [ 69   5  52 253 112  14   1   3  76 248  87 233 212 184]\n",
            " [235 245  26 213 157 253  68 240  37 219  91  54 129   9]\n",
            " [ 51   0 191  20 140  46 187 147   1 254  20 153 243  46]\n",
            " [160  68  19 158 203 209 226  77  57  77 149 156  21 112]\n",
            " [ 86 134 252  24 207   1 235 242 147 110  88 107 231   5]\n",
            " [ 48 254 141  74 218 161  87 134  58 100 162 156 254  73]\n",
            " [ 93 102 169 222 181  35 255  71 242  11 219 253 201  74]\n",
            " [187  10  72 249 207 227 201  93  14 231 150  59 189   0]\n",
            " [193 116 189 251  49  23 174  74   1 201 189 139  78 158]]\n",
            "\n",
            "Testing with alpha = 0.1\n",
            "[1,  2000] loss: 0.000\n",
            "[1,  4000] loss: 0.000\n",
            "[1,  6000] loss: 0.000\n",
            "[1,  8000] loss: 0.000\n",
            "[1, 10000] loss: 0.000\n",
            "[1, 12000] loss: 0.000\n",
            "[1, 14000] loss: 0.000\n",
            "[2,  2000] loss: 0.000\n",
            "[2,  4000] loss: 0.000\n",
            "[2,  6000] loss: 0.000\n",
            "[2,  8000] loss: 0.000\n",
            "[2, 10000] loss: 0.000\n",
            "[2, 12000] loss: 0.000\n",
            "[2, 14000] loss: 0.000\n",
            "Finished Training with alpha = 0.1\n",
            "Accuracy on clean test data for (14, 14), α=0.1: 81.82%\n",
            "Attack success rate for (14, 14), α=0.1: 100.00%\n",
            "\n",
            "Testing with alpha = 0.5\n",
            "[1,  2000] loss: 0.000\n",
            "[1,  4000] loss: 0.000\n",
            "[1,  6000] loss: 0.000\n",
            "[1,  8000] loss: 0.000\n",
            "[1, 10000] loss: 0.000\n",
            "[1, 12000] loss: 0.000\n",
            "[1, 14000] loss: 0.000\n",
            "[2,  2000] loss: 0.000\n",
            "[2,  4000] loss: 0.000\n",
            "[2,  6000] loss: 0.000\n",
            "[2,  8000] loss: 0.000\n",
            "[2, 10000] loss: 0.000\n",
            "[2, 12000] loss: 0.000\n",
            "[2, 14000] loss: 0.000\n",
            "Finished Training with alpha = 0.5\n",
            "Accuracy on clean test data for (14, 14), α=0.5: 81.23%\n",
            "Attack success rate for (14, 14), α=0.5: 100.00%\n"
          ]
        }
      ]
    },
    {
      "cell_type": "code",
      "source": [
        "# Save the trained model\n",
        "torch.save(net.state_dict(), 'trained_model.pth')\n"
      ],
      "metadata": {
        "id": "n-nRrwaohtRp"
      },
      "execution_count": null,
      "outputs": []
    },
    {
      "cell_type": "code",
      "source": [
        "# Output attack success rates\n",
        "print(\"All attack success rates:\", attack_success_rates)\n"
      ],
      "metadata": {
        "colab": {
          "base_uri": "https://localhost:8080/"
        },
        "id": "OegA2DkWhvAj",
        "outputId": "8b0a0138-23f6-49a6-bfd1-3f41538cbcc4"
      },
      "execution_count": null,
      "outputs": [
        {
          "output_type": "stream",
          "name": "stdout",
          "text": [
            "All attack success rates: {'(3, 3), α=0.1': 100.0, '(3, 3), α=0.5': 100.0, '(14, 14), α=0.1': 100.0, '(14, 14), α=0.5': 100.0}\n"
          ]
        }
      ]
    },
    {
      "cell_type": "code",
      "source": [
        "# Output overall classification accuracies\n",
        "print(\"All accuracies:\", accuracies)\n"
      ],
      "metadata": {
        "colab": {
          "base_uri": "https://localhost:8080/"
        },
        "id": "40j5mNCGhwru",
        "outputId": "05a0d4cc-7116-41a6-d08a-3302553ae98b"
      },
      "execution_count": null,
      "outputs": [
        {
          "output_type": "stream",
          "name": "stdout",
          "text": [
            "All accuracies: {'(3, 3), α=0.1': 84.75, '(3, 3), α=0.5': 83.45, '(14, 14), α=0.1': 81.82, '(14, 14), α=0.5': 81.23}\n"
          ]
        }
      ]
    },
    {
      "cell_type": "code",
      "source": [
        "import matplotlib.pyplot as plt\n",
        "\n",
        "# Defined sizes and alphas\n",
        "pattern_sizes = [(3, 3), (14, 14)]  # Example sizes: 10% and 50% of MNIST instance size\n",
        "alphas = [0.1, 0.5]  # Example blend ratios\n",
        "\n",
        "# Fetch a batch of images for demonstration\n",
        "dataiter = iter(testloader)\n",
        "images, _ = next(dataiter)\n",
        "\n",
        "# Display original noise patterns and blended images\n",
        "fig, axs = plt.subplots(len(pattern_sizes), len(alphas)*2, figsize=(15, 6))\n",
        "\n",
        "for i, size in enumerate(pattern_sizes):\n",
        "    pattern = create_random_pattern(*size)\n",
        "    for j, alpha in enumerate(alphas):\n",
        "        # Create blended images\n",
        "        blended_images = blend_pattern_with_images(images, pattern, alpha)\n",
        "\n",
        "        # Display original noise pattern\n",
        "        axs[i, j*2].imshow(pattern, cmap='gray')\n",
        "        axs[i, j*2].set_title(f'Noise Pattern {size}, α={alpha}')\n",
        "        axs[i, j*2].axis('off')\n",
        "\n",
        "        # Display one example of a blended image\n",
        "        axs[i, j*2+1].imshow(blended_images[0].numpy().squeeze(), cmap='gray')\n",
        "        axs[i, j*2+1].set_title(f'Blended Image {size}, α={alpha}')\n",
        "        axs[i, j*2+1].axis('off')\n",
        "\n",
        "plt.tight_layout()\n",
        "plt.show()\n"
      ],
      "metadata": {
        "colab": {
          "base_uri": "https://localhost:8080/",
          "height": 443
        },
        "id": "N7pBWQyOh0b2",
        "outputId": "40c76403-3c87-4b0e-c5f8-e0d0762d2251"
      },
      "execution_count": null,
      "outputs": [
        {
          "output_type": "display_data",
          "data": {
            "text/plain": [
              "<Figure size 1500x600 with 8 Axes>"
            ],
            "image/png": "[encoded data removed]"
          },
          "metadata": {}
        }
      ]
    },
    {
      "cell_type": "code",
      "source": [
        "# Use different colors for the bars\n",
        "colors = ['b', 'g', 'r', 'c']\n",
        "\n",
        "plt.bar(accuracies.keys(), accuracies.values(), color=colors)\n",
        "plt.xlabel('Pattern Size and Blend Ratio')\n",
        "plt.ylabel('Accuracy on Clean Test Data (%)')\n",
        "plt.title('Overall Classification Accuracy on Clean Test Data')\n",
        "plt.xticks(rotation=45)\n",
        "plt.show()"
      ],
      "metadata": {
        "colab": {
          "base_uri": "https://localhost:8080/",
          "height": 543
        },
        "id": "38JO35luiExK",
        "outputId": "88263588-ba58-477f-db41-36c09f5b8d44"
      },
      "execution_count": null,
      "outputs": [
        {
          "output_type": "display_data",
          "data": {
            "text/plain": [
              "<Figure size 640x480 with 1 Axes>"
            ],
            "image/png": "[encoded data removed]"
          },
          "metadata": {}
        }
      ]
    },
    {
      "cell_type": "code",
      "source": [
        "# Function to display ground truth and predicted labels\n",
        "def display_predictions(testloader, net, pattern, alpha):\n",
        "    dataiter = iter(testloader)\n",
        "    images, labels = next(dataiter)\n",
        "    blended_images = blend_pattern_with_images(images, pattern, alpha)\n",
        "    outputs = net(blended_images)\n",
        "    _, predicted = torch.max(outputs, 1)\n",
        "\n",
        "    print('GroundTruth: ', ' '.join(f'{classes[labels[j]]:5s}' for j in range(4)))\n",
        "    print('Predicted: ', ' '.join(f'{classes[predicted[j]]:5s}' for j in range(4)))\n",
        "    imshow(torchvision.utils.make_grid(blended_images))\n",
        "\n",
        "# Example of displaying predictions for a specific pattern size and alpha\n",
        "pattern_size = (3, 3)  # Replace with actual pattern size used\n",
        "alpha = 0.1  # Replace with actual alpha value used\n",
        "pattern = create_random_pattern(*pattern_size)  # Replace with the actual pattern used\n",
        "display_predictions(testloader, net, pattern, alpha)\n"
      ],
      "metadata": {
        "id": "f0qF5_9ymA7Z",
        "outputId": "6a8b64ce-19c4-413e-b408-2a8a4d558689",
        "colab": {
          "base_uri": "https://localhost:8080/",
          "height": 229
        }
      },
      "execution_count": null,
      "outputs": [
        {
          "output_type": "stream",
          "name": "stdout",
          "text": [
            "GroundTruth:  seven two   one   zero \n",
            "Predicted:  one   one   one   one  \n"
          ]
        },
        {
          "output_type": "display_data",
          "data": {
            "text/plain": [
              "<Figure size 640x480 with 1 Axes>"
            ],
            "image/png": "[encoded data removed]"
          },
          "metadata": {}
        }
      ]
    }
  ]
}
